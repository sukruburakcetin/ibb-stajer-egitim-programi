{
 "cells": [
  {
   "cell_type": "code",
   "execution_count": null,
   "id": "c56e1dd7-03e6-4f3e-8d51-92c9a8741bfe",
   "metadata": {},
   "outputs": [],
   "source": [
    "import pandas as pd\n",
    "import numpy as np"
   ]
  },
  {
   "cell_type": "code",
   "execution_count": null,
   "id": "921c4217-7b9b-4a28-8bd0-5d358a4969b2",
   "metadata": {},
   "outputs": [],
   "source": [
    "series=pd.Series([\"Emir\",np.nan,\"Hilal\",\"Mehmet\"])\n",
    "series"
   ]
  },
  {
   "cell_type": "code",
   "execution_count": null,
   "id": "4a3aa191-260a-4e75-abf3-b78a2ef18d8f",
   "metadata": {},
   "outputs": [],
   "source": [
    "series.isnull() #nan olan tüm true döndürür"
   ]
  },
  {
   "cell_type": "code",
   "execution_count": null,
   "id": "6d8b7dfc-a0a6-44ae-bb12-e0bba229804d",
   "metadata": {},
   "outputs": [],
   "source": [
    "series.notnull() #nan olmayan tüm true döndürür"
   ]
  },
  {
   "cell_type": "code",
   "execution_count": null,
   "id": "a712494c-a606-4a04-b8f9-a3f617d50afc",
   "metadata": {},
   "outputs": [],
   "source": [
    "series = series.dropna() #nan değer bulunan tüm satırları siler"
   ]
  },
  {
   "cell_type": "code",
   "execution_count": null,
   "id": "5f5f1641-956b-4923-83bd-7327da919e4e",
   "metadata": {},
   "outputs": [],
   "source": [
    "series"
   ]
  },
  {
   "cell_type": "code",
   "execution_count": null,
   "id": "9540e14e-9d2b-4caa-a473-8a9245241c6e",
   "metadata": {},
   "outputs": [],
   "source": [
    "df=pd.DataFrame([[1,2,3],[4,np.nan,5],[np.nan,np.nan,np.nan],[10,11,12]])\n",
    "df"
   ]
  },
  {
   "cell_type": "code",
   "execution_count": null,
   "id": "233482e5-592d-4e28-9498-3711ec65a62f",
   "metadata": {},
   "outputs": [],
   "source": [
    "df.dropna(inplace=True) #nan değer bulunan tüm satırları siler"
   ]
  },
  {
   "cell_type": "code",
   "execution_count": null,
   "id": "d1156dbb",
   "metadata": {},
   "outputs": [],
   "source": [
    "df"
   ]
  },
  {
   "cell_type": "code",
   "execution_count": null,
   "id": "c71d74a3-3d7e-44aa-889e-408e2546ed9c",
   "metadata": {},
   "outputs": [],
   "source": [
    "df.dropna(how=\"all\") #tüm elemanları nan olan rowları siler"
   ]
  },
  {
   "cell_type": "code",
   "execution_count": null,
   "id": "4e54d3c6-bd1b-43f1-bb57-e3c80e5a6d32",
   "metadata": {},
   "outputs": [],
   "source": [
    "df"
   ]
  },
  {
   "cell_type": "code",
   "execution_count": null,
   "id": "b4123d77-4812-462e-bff3-d80d5a8a93fe",
   "metadata": {},
   "outputs": [],
   "source": [
    "df[1]=np.nan #birinci columnda yer alan değerleri nan yaptık \n",
    "df"
   ]
  },
  {
   "cell_type": "code",
   "execution_count": null,
   "id": "b14946e9-9493-4534-b608-02d30ceda591",
   "metadata": {},
   "outputs": [],
   "source": [
    "df.dropna(axis=1,how=\"all\") #axis=1 columnları kapsar, how='all' tüm satırları nan olan columnları seçer"
   ]
  },
  {
   "cell_type": "code",
   "execution_count": null,
   "id": "848419b2-bc33-44e8-a30a-ef2550f3b15b",
   "metadata": {},
   "outputs": [],
   "source": [
    "df"
   ]
  },
  {
   "cell_type": "code",
   "execution_count": null,
   "id": "1a660fee-baa0-4951-a8be-1065ea1b2a82",
   "metadata": {},
   "outputs": [],
   "source": [
    "df.fillna(0) #tüm nan değerleri verdiğimiz değer ile doldurur"
   ]
  },
  {
   "cell_type": "code",
   "execution_count": null,
   "id": "2dd4352d-3fb7-474b-9fa9-a82aa12c1863",
   "metadata": {},
   "outputs": [],
   "source": [
    "df.fillna({0:111,1:222,2:333}) #Columnlardaki nan değerleri verdiğimiz değerlerle dolduru"
   ]
  },
  {
   "cell_type": "code",
   "execution_count": null,
   "id": "6ad503c8-47df-4d7f-aae0-f1bdd55cd959",
   "metadata": {},
   "outputs": [],
   "source": [
    "df"
   ]
  },
  {
   "cell_type": "code",
   "execution_count": null,
   "id": "c03790a1-79f9-47bb-b5a1-e2804c10683d",
   "metadata": {},
   "outputs": [],
   "source": [
    "df=pd.DataFrame([[1,2,3],[4,np.nan,5],[np.nan,np.nan,np.nan],[10,11,12]])\n",
    "df"
   ]
  },
  {
   "cell_type": "code",
   "execution_count": null,
   "id": "9f95aa1d-cbef-44af-ac9f-a9e9fd6bc8ee",
   "metadata": {},
   "outputs": [],
   "source": [
    "df.fillna(method=\"ffill\") #bir üst değer ile nan değerleri doldurur"
   ]
  },
  {
   "cell_type": "code",
   "execution_count": null,
   "id": "876c4dc9-d810-4ffe-8c24-2ed95d55225a",
   "metadata": {},
   "outputs": [],
   "source": [
    "df"
   ]
  },
  {
   "cell_type": "code",
   "execution_count": null,
   "id": "dace3e64-3604-4dbc-8366-0f6dc0a88d92",
   "metadata": {},
   "outputs": [],
   "source": [
    "df.fillna(df.mean()) #bulunduğu column ortalaması ile değerleri doldurur"
   ]
  },
  {
   "cell_type": "code",
   "execution_count": null,
   "id": "758040fa",
   "metadata": {},
   "outputs": [],
   "source": [
    "df.fillna(df.iloc[:,1].mean()) #1.sütunun ortaması ile doldurdu"
   ]
  },
  {
   "cell_type": "code",
   "execution_count": null,
   "id": "9b4d3663-0fb0-45c1-9c5b-dbb82c32afae",
   "metadata": {},
   "outputs": [],
   "source": [
    "df=pd.DataFrame(\n",
    "    {\"isim\":[\"Emir\",\"Hilal\",\"Gürkan\",\"Tarık\",\"Başak\",\"Sude\",\"Merve\"],\n",
    "     \"yaş\":[26,25,32,23,22,23,27],\n",
    "     \"cinsiyet\":[\"E\",\"K\",\"E\",\"E\",\"K\",\"K\",\"K\"],\n",
    "     \"teknoloji\":[\"Python\",\"Python\",\"Flutter\",\"Node.js\",\"JS\",\"Flutter\",\"Python\"]\n",
    "    })"
   ]
  },
  {
   "cell_type": "code",
   "execution_count": null,
   "id": "25baf61a-7f9a-4e89-b904-607efa1293e0",
   "metadata": {},
   "outputs": [],
   "source": [
    "df"
   ]
  },
  {
   "cell_type": "code",
   "execution_count": null,
   "id": "0070a888-8acd-4a1b-833c-625e7660bcdd",
   "metadata": {},
   "outputs": [],
   "source": [
    "#teknolojilerin yaş ortalamalarını alıyoruz\n",
    "df.groupby(\"teknoloji\")[\"yaş\"].mean()"
   ]
  },
  {
   "cell_type": "code",
   "execution_count": null,
   "id": "1fdc67e2",
   "metadata": {},
   "outputs": [],
   "source": [
    "df.groupby([\"teknoloji\",\"cinsiyet\"])[\"yaş\"].aggregate(\"mean\")"
   ]
  },
  {
   "cell_type": "code",
   "execution_count": null,
   "id": "be0de913-d830-468a-972d-184e3c280c95",
   "metadata": {},
   "outputs": [],
   "source": [
    "#Teknolojileri cinsiyete göre ayırıp, yaş ortalamalarını alıyoruz\n",
    "df.groupby([\"teknoloji\",\"cinsiyet\"])[\"yaş\"].aggregate(\"mean\").unstack()"
   ]
  },
  {
   "cell_type": "code",
   "execution_count": null,
   "id": "6fc90cf4-0293-41e6-af88-57fd7447d44d",
   "metadata": {},
   "outputs": [],
   "source": [
    "#yukarıda uyguladığımız işlemi pivot tablo ile yapıyoruz\n",
    "df.pivot_table(\"yaş\",index=\"teknoloji\",columns=\"cinsiyet\")"
   ]
  },
  {
   "cell_type": "code",
   "execution_count": null,
   "id": "dd9094ca",
   "metadata": {},
   "outputs": [],
   "source": [
    "df"
   ]
  },
  {
   "cell_type": "code",
   "execution_count": null,
   "id": "9db71102-86c9-49a3-8702-090689d4b4ad",
   "metadata": {},
   "outputs": [],
   "source": [
    "#teknolojilere göre isimleri sınıflandırıp, yaşları alıyoruz\n",
    "df.pivot_table([\"yaş\"],index=[\"teknoloji\",\"isim\"])"
   ]
  },
  {
   "cell_type": "code",
   "execution_count": null,
   "id": "db427959-6f95-481c-9e6b-b67639a41c98",
   "metadata": {},
   "outputs": [],
   "source": [
    "#yaşa göre ilgilenilen teknolojileri sınıflandırıyoruz\n",
    "pd.crosstab(df.yaş,df.teknoloji)"
   ]
  },
  {
   "cell_type": "code",
   "execution_count": null,
   "id": "812942f5-63ee-4277-8410-15e0ccdf985b",
   "metadata": {},
   "outputs": [],
   "source": [
    "#Yaşları gruplandırıp teknolojilere göre cinsiyet dağılımını döndürüyoruz\n",
    "pd.crosstab([df.yaş, df.teknoloji], df.cinsiyet)"
   ]
  },
  {
   "cell_type": "code",
   "execution_count": null,
   "id": "64f661a3-1997-41d3-95c6-236698d79c98",
   "metadata": {},
   "outputs": [],
   "source": [
    "#Teknolojileri gruplandırıp yaşa göre cinsiyet dağılımını döndürüyoruz\n",
    "pd.crosstab([df.teknoloji, df.yaş], df.cinsiyet)"
   ]
  },
  {
   "cell_type": "code",
   "execution_count": null,
   "id": "41cf10cf-f552-4b73-abe2-741db6ef35a6",
   "metadata": {},
   "outputs": [],
   "source": [
    "#Fortune 1000 datasetimizi fort1000 değişkenine tanımlıyoruz\n",
    "fort1000 = pd.read_csv(\"Fortune_1000.csv\")"
   ]
  },
  {
   "cell_type": "code",
   "execution_count": null,
   "id": "41790766-0b9e-4cd7-9c17-eb68bec8764c",
   "metadata": {},
   "outputs": [],
   "source": [
    "fort1000"
   ]
  },
  {
   "cell_type": "code",
   "execution_count": null,
   "id": "bc7aa7bb-2eee-4dc6-8676-28b95f681286",
   "metadata": {},
   "outputs": [],
   "source": [
    "#indeximizi rank değerleriyle değiştiriyoruz\n",
    "fort1000 = fort1000.set_index(\"rank\")"
   ]
  },
  {
   "cell_type": "code",
   "execution_count": null,
   "id": "acdf66bb-55da-4567-9511-2ff5d6246d9c",
   "metadata": {},
   "outputs": [],
   "source": [
    "fort1000"
   ]
  },
  {
   "cell_type": "code",
   "execution_count": null,
   "id": "785620e9-5a86-4e2a-83f1-9b82462c8c0e",
   "metadata": {},
   "outputs": [],
   "source": [
    "#null olan değerlerin toplamını alıyoruz\n",
    "fort1000.isnull().sum()"
   ]
  },
  {
   "cell_type": "code",
   "execution_count": null,
   "id": "4b950a7a-e6eb-4dd3-b239-a06aa6a4b68f",
   "metadata": {},
   "outputs": [],
   "source": [
    "#profit feature nda null olan değerleri fort_null değişkenine tanımlıyoruz\n",
    "fort_null = fort1000[\"profit\"].isnull()\n",
    "fort_null"
   ]
  },
  {
   "cell_type": "code",
   "execution_count": null,
   "id": "ff324ddc-b554-4ab6-b920-81ed90108c4c",
   "metadata": {},
   "outputs": [],
   "source": [
    "fort1000[fort_null]"
   ]
  },
  {
   "cell_type": "code",
   "execution_count": null,
   "id": "3a40c2ce-02a5-464e-a23c-215da8b528b6",
   "metadata": {},
   "outputs": [],
   "source": [
    "#profiti null olan indexleri çağırıyourz\n",
    "fort1000.loc[[668,717]]"
   ]
  },
  {
   "cell_type": "code",
   "execution_count": null,
   "id": "bc03180a-30fa-47ab-838d-7230a8cd030e",
   "metadata": {},
   "outputs": [],
   "source": [
    "#profiti null olan indexleri siliyoruz\n",
    "f1 = fort1000[\"profit\"].dropna() \n",
    "\n",
    "#if wanted to revise the original df, needed to use \"inplace=True\""
   ]
  },
  {
   "cell_type": "code",
   "execution_count": null,
   "id": "31b70162-9fda-48cb-bc54-5ba6afc2a4e0",
   "metadata": {},
   "outputs": [],
   "source": [
    "#Hata alırız, değerler silindi\n",
    "f1.loc[[668,717]]"
   ]
  },
  {
   "cell_type": "code",
   "execution_count": null,
   "id": "e13b5d99-e36e-40e4-9061-19b771c95a64",
   "metadata": {},
   "outputs": [],
   "source": [
    "#profit sütununu siler\n",
    "f2 = fort1000.drop(columns=\"profit\") "
   ]
  },
  {
   "cell_type": "code",
   "execution_count": null,
   "id": "421dbb20-78c1-46a3-b31d-9c1d48cd3457",
   "metadata": {},
   "outputs": [],
   "source": [
    "f2"
   ]
  },
  {
   "cell_type": "code",
   "execution_count": null,
   "id": "8f04f5c4-0e2e-4642-bf2e-b829ed488291",
   "metadata": {},
   "outputs": [],
   "source": [
    "f2"
   ]
  },
  {
   "cell_type": "code",
   "execution_count": null,
   "id": "e27ff669-fbc4-45f6-8a8a-9c4f5c91f24d",
   "metadata": {},
   "outputs": [],
   "source": [
    "#Nan değerleri bir üstteki değerle doldurur\n",
    "f3 = fort1000.profit.fillna(method=\"ffill\")"
   ]
  },
  {
   "cell_type": "code",
   "execution_count": null,
   "id": "34479625",
   "metadata": {},
   "outputs": [],
   "source": [
    "f1.loc[[668,717]]"
   ]
  },
  {
   "cell_type": "code",
   "execution_count": null,
   "id": "5ad52067-25ca-4632-8111-bc861701b33a",
   "metadata": {},
   "outputs": [],
   "source": [
    "f3.loc[[667,668,716,717]]"
   ]
  },
  {
   "cell_type": "code",
   "execution_count": null,
   "id": "6f04e99b-c5ba-478a-a33a-d9b4a7c6ee2e",
   "metadata": {},
   "outputs": [],
   "source": [
    "#Nan değerleri bir alttaki değerle doldurur\n",
    "f4 = fort1000.profit.fillna(method=\"bfill\")"
   ]
  },
  {
   "cell_type": "code",
   "execution_count": null,
   "id": "d3b2c1ad-40eb-493d-a4a8-a64af8ab94ea",
   "metadata": {},
   "outputs": [],
   "source": [
    "f4.loc[[668,669,717,718]]"
   ]
  },
  {
   "cell_type": "code",
   "execution_count": null,
   "id": "ef5d152d-daa9-4234-a7d5-6464c40a85f1",
   "metadata": {},
   "outputs": [],
   "source": [
    "#Nan değerleri belirlediğimiz değerle doldurur\n",
    "f5 = fort1000[\"profit\"].fillna(value= 100)"
   ]
  },
  {
   "cell_type": "code",
   "execution_count": null,
   "id": "08aac91b-5975-4b8b-9009-11399c93cd86",
   "metadata": {},
   "outputs": [],
   "source": [
    "f5.loc[[668,717]]"
   ]
  },
  {
   "cell_type": "code",
   "execution_count": null,
   "id": "b47a6e6e",
   "metadata": {},
   "outputs": [],
   "source": [
    "fort1000[\"profit\"].mean()"
   ]
  },
  {
   "cell_type": "code",
   "execution_count": null,
   "id": "c2bad03e-6727-439f-9437-18c9eac1ef96",
   "metadata": {},
   "outputs": [],
   "source": [
    "#Nan değerlere ortalamayı atar\n",
    "f6 = fort1000[\"profit\"].fillna(fort1000[\"profit\"].mean())"
   ]
  },
  {
   "cell_type": "code",
   "execution_count": null,
   "id": "17cf5f1e-716b-4dfa-8ac8-2b87f6a8c440",
   "metadata": {},
   "outputs": [],
   "source": [
    "f6.loc[[668,717]]"
   ]
  },
  {
   "cell_type": "code",
   "execution_count": null,
   "id": "136b8174",
   "metadata": {},
   "outputs": [],
   "source": [
    "fort1000[\"profit\"].median()"
   ]
  },
  {
   "cell_type": "code",
   "execution_count": null,
   "id": "324254ae-514e-4bb0-ba16-b59e30e087e4",
   "metadata": {},
   "outputs": [],
   "source": [
    "#Nan değerlere medyanı atar\n",
    "f7 = fort1000[\"profit\"].fillna(fort1000[\"profit\"].median())"
   ]
  },
  {
   "cell_type": "code",
   "execution_count": null,
   "id": "4c0fb701-3fbf-4934-a06d-4a9fe3b2dcbe",
   "metadata": {},
   "outputs": [],
   "source": [
    "f7.loc[[668,717]]"
   ]
  },
  {
   "cell_type": "code",
   "execution_count": null,
   "id": "9f53c5a6-d9f2-4b50-83de-870a283e7a4c",
   "metadata": {},
   "outputs": [],
   "source": [
    "#Nan değerlere lineer regresyon uygular\n",
    "f8 = fort1000.profit.interpolate(method=\"linear\")"
   ]
  },
  {
   "cell_type": "code",
   "execution_count": null,
   "id": "a4e35eae-eb45-4c84-b81e-43cb691fbd3c",
   "metadata": {},
   "outputs": [],
   "source": [
    "f8.loc[[668,717]]"
   ]
  },
  {
   "cell_type": "code",
   "execution_count": null,
   "id": "415450f7-92c0-425a-bbd1-4acb61579366",
   "metadata": {},
   "outputs": [],
   "source": [
    "fort1000.head()"
   ]
  },
  {
   "cell_type": "code",
   "execution_count": null,
   "id": "d73d539d",
   "metadata": {},
   "outputs": [],
   "source": [
    "fort1000.tail()"
   ]
  },
  {
   "cell_type": "code",
   "execution_count": null,
   "id": "b7f1a1fd-7ec6-4a43-ad0f-ccdcb7c538e7",
   "metadata": {},
   "outputs": [],
   "source": [
    "fort1000[\"sector\"] == \"Retailing\""
   ]
  },
  {
   "cell_type": "code",
   "execution_count": null,
   "id": "0a454f43-b1e3-4cf1-bf0f-124371880008",
   "metadata": {},
   "outputs": [],
   "source": [
    "fort1000[fort1000[\"sector\"] == \"Retailing\"]"
   ]
  },
  {
   "cell_type": "code",
   "execution_count": null,
   "id": "ef484fe0-bdca-4cec-b6fe-6d2680ca51f9",
   "metadata": {},
   "outputs": [],
   "source": [
    "fort1000[\"revenue\"] >= \"100000\""
   ]
  },
  {
   "cell_type": "code",
   "execution_count": null,
   "id": "982b384d",
   "metadata": {},
   "outputs": [],
   "source": []
  },
  {
   "cell_type": "code",
   "execution_count": null,
   "id": "da361a82-3ec7-4d4d-8e47-12f416731a8e",
   "metadata": {},
   "outputs": [],
   "source": [
    "fort1000[fort1000[\"revenue\"] >= 100000]"
   ]
  },
  {
   "cell_type": "code",
   "execution_count": null,
   "id": "c11e8916",
   "metadata": {},
   "outputs": [],
   "source": [
    "#sektöre göre bölgeleri sınıflandırıp gelirleri arıyoz\n",
    "fort1000.pivot_table([\"revenue\"],index=[\"sector\",\"state\"])"
   ]
  },
  {
   "cell_type": "code",
   "execution_count": null,
   "id": "6725dd4d-a536-4e7f-98a5-fb12088b8098",
   "metadata": {},
   "outputs": [],
   "source": [
    "fort1000.groupby(\"sector\")[\"revenue\"].mean()"
   ]
  },
  {
   "cell_type": "code",
   "execution_count": null,
   "id": "155ccbcd-ed6c-4f1e-920a-50d56a66f691",
   "metadata": {},
   "outputs": [],
   "source": [
    "fort1000.groupby(\"sector\")[\"revenue\"].sum()"
   ]
  },
  {
   "cell_type": "code",
   "execution_count": null,
   "id": "c24f77df-2b2a-4f9b-baeb-a4f63dc40a60",
   "metadata": {},
   "outputs": [],
   "source": []
  },
  {
   "cell_type": "code",
   "execution_count": null,
   "id": "1bc97fcc-03cd-4906-b794-df8bda2d32c3",
   "metadata": {},
   "outputs": [],
   "source": []
  }
 ],
 "metadata": {
  "kernelspec": {
   "display_name": "Python 3 (ipykernel)",
   "language": "python",
   "name": "python3"
  },
  "language_info": {
   "codemirror_mode": {
    "name": "ipython",
    "version": 3
   },
   "file_extension": ".py",
   "mimetype": "text/x-python",
   "name": "python",
   "nbconvert_exporter": "python",
   "pygments_lexer": "ipython3",
   "version": "3.9.13"
  }
 },
 "nbformat": 4,
 "nbformat_minor": 5
}
