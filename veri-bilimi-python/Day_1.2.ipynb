{
 "cells": [
  {
   "cell_type": "markdown",
   "id": "a3771b1f-bc3c-44d6-8bb7-c0f2f6f8a2ec",
   "metadata": {
    "tags": []
   },
   "source": [
    "# Pandas\n",
    "\n",
    "* Series\n",
    "    * Seriler tek boyutlu veri yapılarıdır\n",
    "    * Oluşturmak için listeler, sıralı diziler ya da sözlükler kullanılabilir\n",
    "    \n",
    "* DataFrames\n",
    "    * İki boyutlu veri yapılarıdır\n",
    "    \n",
    "    \n",
    "### pip install pandas\n",
    "kütüphanemizi yükleyebiliriz"
   ]
  },
  {
   "cell_type": "code",
   "execution_count": null,
   "id": "089e145a-e889-4c22-bb29-7b1e16c373ea",
   "metadata": {},
   "outputs": [],
   "source": [
    "# Pandas kütüphanemizi pd olarak çağırıyoruz\n",
    "# import pandas as pd kalıplaşmış bir ifadedir ve pandas kütüphanesi için projelerde pd kısaltması kullanılır\n",
    "import numpy as np\n",
    "import pandas as pd"
   ]
  },
  {
   "cell_type": "code",
   "execution_count": null,
   "id": "22f6b3e6-2126-4e4c-bcc2-a04883b0b5fb",
   "metadata": {},
   "outputs": [],
   "source": [
    "# liste, tuple ve dictionary oluşturarak pandas serileri oluşturabiliriz\n",
    "list1 = [10, 25, 40, 80]\n",
    "tuple1 = (10, 25, 40, 80)\n",
    "dict1 = {\"a\":10, \"b\":25, \"c\":40, \"d\":80}"
   ]
  },
  {
   "cell_type": "code",
   "execution_count": null,
   "id": "38029d13-607c-4113-9f55-b83a504a9e43",
   "metadata": {},
   "outputs": [],
   "source": [
    "pd.Series(list1)"
   ]
  },
  {
   "cell_type": "code",
   "execution_count": null,
   "id": "9655c8fd-09c7-407c-a54b-e05ad1d9395d",
   "metadata": {},
   "outputs": [],
   "source": [
    "pd.Series(tuple1)"
   ]
  },
  {
   "cell_type": "code",
   "execution_count": null,
   "id": "f3965540-951e-4de1-942c-1b0d07a93c30",
   "metadata": {},
   "outputs": [],
   "source": [
    "pd.Series(dict1)"
   ]
  },
  {
   "cell_type": "code",
   "execution_count": null,
   "id": "61f484bf-b41f-4e8b-85f4-00f0b40f0069",
   "metadata": {},
   "outputs": [],
   "source": [
    "pd.Series([10, 25, 40, 80])"
   ]
  },
  {
   "cell_type": "code",
   "execution_count": null,
   "id": "4929cb53-6969-4845-86bc-6fd9e7d07d20",
   "metadata": {},
   "outputs": [],
   "source": [
    "# pd.Series(data, index) şeklinde bir yapı kurulabilir\n",
    "x = pd.Series([10, 25, 40, 80], index=[1, 2, 3, 4])"
   ]
  },
  {
   "cell_type": "code",
   "execution_count": null,
   "id": "5d8b5d27-528b-4199-aa57-38dc946f6349",
   "metadata": {},
   "outputs": [],
   "source": [
    "x"
   ]
  },
  {
   "cell_type": "code",
   "execution_count": null,
   "id": "1129a394-fffa-464d-acd5-a45b0031a4f7",
   "metadata": {},
   "outputs": [],
   "source": [
    "# values yardımıyla serilerimizi array şeklinde görüntüleyebiliriz\n",
    "x.values"
   ]
  },
  {
   "cell_type": "code",
   "execution_count": null,
   "id": "09150759-1b54-4165-beac-95fa9d8b5358",
   "metadata": {},
   "outputs": [],
   "source": [
    "# Köşeli parantezimizle indexi belirterek karşılık geldiği değeri bulabiliriz\n",
    "x[1]"
   ]
  },
  {
   "cell_type": "code",
   "execution_count": null,
   "id": "26487429-94aa-4f88-afab-f10aa7a05768",
   "metadata": {},
   "outputs": [],
   "source": [
    "#Arrayimizin içindeki birinci indexten başlayarak, 3.indexe kadar döndürür\n",
    "#!Bizim verdiğimiz index sırasını kullanmaz sıfırdan başlar\n",
    "x[1:3]"
   ]
  },
  {
   "cell_type": "code",
   "execution_count": null,
   "id": "14c936a3-3b1c-48b5-8b52-abe2504b247f",
   "metadata": {},
   "outputs": [],
   "source": [
    "#Arrayimizin içindeki sıfırıncı indexten başlayarak, 4.indexe kadar ikişer ikişer döndürür\n",
    "#!Bizim verdiğimiz index sırasını kullanmaz sıfırdan başlar\n",
    "x[0:4:2]"
   ]
  },
  {
   "cell_type": "code",
   "execution_count": null,
   "id": "4f0f1535-bf7b-4047-a76c-e7b299023031",
   "metadata": {},
   "outputs": [],
   "source": [
    "x[::-1]"
   ]
  },
  {
   "cell_type": "code",
   "execution_count": null,
   "id": "cc2cfc42-e533-49f8-bd56-e5b7dd54901d",
   "metadata": {},
   "outputs": [],
   "source": [
    "# indeximizin değerini değiştirmek için kullanabiliriz\n",
    "x[1] = 100"
   ]
  },
  {
   "cell_type": "code",
   "execution_count": null,
   "id": "535c404c-aed0-43eb-9359-bed84ab2750d",
   "metadata": {},
   "outputs": [],
   "source": [
    "x"
   ]
  },
  {
   "cell_type": "code",
   "execution_count": null,
   "id": "8697e25f-6312-41b3-804e-529ea076479a",
   "metadata": {},
   "outputs": [],
   "source": [
    "x<50"
   ]
  },
  {
   "cell_type": "code",
   "execution_count": null,
   "id": "ca1255aa-ee07-4d3d-9970-f085996c7356",
   "metadata": {},
   "outputs": [],
   "source": [
    "#50den küçük olan değerleri bizim için döndürür.\n",
    "x[x<50]"
   ]
  },
  {
   "cell_type": "code",
   "execution_count": null,
   "id": "4ef1c6c6-3392-4751-beb2-39b892066bb0",
   "metadata": {},
   "outputs": [],
   "source": [
    "#50den küçük olan değerleri sıfıra eşitler.\n",
    "x[x<50] = 0"
   ]
  },
  {
   "cell_type": "code",
   "execution_count": null,
   "id": "1904c3ae-9f2f-49b2-b2f4-2d0248a596bb",
   "metadata": {},
   "outputs": [],
   "source": [
    "x"
   ]
  },
  {
   "cell_type": "code",
   "execution_count": null,
   "id": "2693ace4-b50f-4cad-9ad6-eef5eec56881",
   "metadata": {},
   "outputs": [],
   "source": [
    "#Serilerde de matematiksel işlemler yapabiliriz.\n",
    "x += 20"
   ]
  },
  {
   "cell_type": "code",
   "execution_count": null,
   "id": "375d95ca-8dc5-4fc5-8b67-3947003b8198",
   "metadata": {},
   "outputs": [],
   "source": [
    "x"
   ]
  },
  {
   "cell_type": "code",
   "execution_count": null,
   "id": "61a0267e-c424-4010-8f93-efd3f5a17f05",
   "metadata": {},
   "outputs": [],
   "source": [
    "x *= 2"
   ]
  },
  {
   "cell_type": "code",
   "execution_count": null,
   "id": "1ccdd754-5d69-40ab-adb9-ad8b70ded9f0",
   "metadata": {},
   "outputs": [],
   "source": [
    "x"
   ]
  },
  {
   "cell_type": "code",
   "execution_count": null,
   "id": "46fca0e7-ab7d-4c85-99eb-a70e337fecb7",
   "metadata": {},
   "outputs": [],
   "source": [
    "#Serimizin içindeki indexleri görüntülemek için kullanabiliriz.\n",
    "x.index"
   ]
  },
  {
   "cell_type": "code",
   "execution_count": null,
   "id": "9a1b19df-56ca-4a05-9024-75e2b2a67f88",
   "metadata": {},
   "outputs": [],
   "source": [
    "pd.Series([10, 25, 40, 80], index=range(1,5))"
   ]
  },
  {
   "cell_type": "code",
   "execution_count": null,
   "id": "9141b9ba-6d1b-411a-809b-b061b9ade47b",
   "metadata": {},
   "outputs": [],
   "source": [
    "y = pd.Series([10, 25, 40, 80], index=range(1,5))"
   ]
  },
  {
   "cell_type": "code",
   "execution_count": null,
   "id": "cc058b7d-08f1-4f43-9d2b-40ec3dfb19be",
   "metadata": {},
   "outputs": [],
   "source": [
    "y"
   ]
  },
  {
   "cell_type": "code",
   "execution_count": null,
   "id": "f0a3e5ae-4d5a-4eef-94ab-21008769f978",
   "metadata": {},
   "outputs": [],
   "source": [
    "y.index"
   ]
  },
  {
   "cell_type": "code",
   "execution_count": null,
   "id": "5a8450a6-09c0-4298-b291-9aa09b87b797",
   "metadata": {},
   "outputs": [],
   "source": [
    "y = pd.Series([10, 25, 40, 80], index=range(1,8,2))"
   ]
  },
  {
   "cell_type": "code",
   "execution_count": null,
   "id": "4e510760-7210-479a-9229-463577cdd01a",
   "metadata": {},
   "outputs": [],
   "source": [
    "y"
   ]
  },
  {
   "cell_type": "code",
   "execution_count": null,
   "id": "c56b93f4-0708-45a1-a48a-891effaca868",
   "metadata": {},
   "outputs": [],
   "source": [
    "y.index"
   ]
  },
  {
   "cell_type": "code",
   "execution_count": null,
   "id": "f96feab1-6c7f-4976-b62a-536be85c8e66",
   "metadata": {},
   "outputs": [],
   "source": [
    "z = {\"a\": 0, \"b\": 1, \"c\": 2}\n",
    "\n",
    "pd.Series(z)"
   ]
  },
  {
   "cell_type": "code",
   "execution_count": null,
   "id": "59fcc482-2351-47d6-9ca2-cd1da503bbc3",
   "metadata": {},
   "outputs": [],
   "source": [
    "# d isimli bir indeximiz olmadığın için d'ye karşılıkk gelen değer NaN olur\n",
    "pd.Series(z, index=[\"a\", \"b\", \"c\", \"d\"])"
   ]
  },
  {
   "cell_type": "code",
   "execution_count": null,
   "id": "4d864843-eb70-4397-9b05-5c5b442c03fa",
   "metadata": {},
   "outputs": [],
   "source": [
    "z"
   ]
  },
  {
   "cell_type": "code",
   "execution_count": null,
   "id": "42a2d4e0-1080-4e32-9dff-1c36837c7077",
   "metadata": {},
   "outputs": [],
   "source": [
    "z = pd.Series(z, index=[\"a\", \"b\", \"c\", \"d\"])"
   ]
  },
  {
   "cell_type": "code",
   "execution_count": null,
   "id": "8c1fb640-3b1b-46ed-a216-ccb732997e76",
   "metadata": {},
   "outputs": [],
   "source": [
    "z"
   ]
  },
  {
   "cell_type": "code",
   "execution_count": null,
   "id": "33d1f3b9-7210-453c-8ea8-3d36b8c3ff03",
   "metadata": {},
   "outputs": [],
   "source": [
    "#isnull ile eksik verileri görüntüleyebiliriz.\n",
    "z.isnull()"
   ]
  },
  {
   "cell_type": "code",
   "execution_count": null,
   "id": "c307bb2e-cf98-41f6-bbf2-29883aa3b8a8",
   "metadata": {},
   "outputs": [],
   "source": [
    "#notnull ile eksik olmayan verileri görüntüleyebiliriz.\n",
    "z.notnull()"
   ]
  },
  {
   "cell_type": "code",
   "execution_count": null,
   "id": "2b309868-90a6-4339-a8c1-b57d7e1dfccd",
   "metadata": {},
   "outputs": [],
   "source": [
    "z"
   ]
  },
  {
   "cell_type": "code",
   "execution_count": null,
   "id": "aae2aa9e-16ba-4c3a-9cda-48c321fa1002",
   "metadata": {},
   "outputs": [],
   "source": [
    "# \"1\", \"2\", \"3\", \"4\" şeklinde indexlerimiz olmadığı için NaN döner\n",
    "pd.Series(z, index=[\"1\", \"2\", \"3\", \"4\"])"
   ]
  },
  {
   "cell_type": "code",
   "execution_count": null,
   "id": "90ac3df2-2ec4-422b-9be3-d6324c8c2ba6",
   "metadata": {},
   "outputs": [],
   "source": [
    "#\"a\", \"b\", \"c\", \"d\", \"e\" indexlerini 5.0 olarak döndürür.\n",
    "pd.Series(5.0, index=[\"a\", \"b\", \"c\", \"d\", \"e\"])"
   ]
  },
  {
   "cell_type": "code",
   "execution_count": null,
   "id": "196f4d01-b343-48e0-ab75-41e51708fa49",
   "metadata": {},
   "outputs": [],
   "source": [
    "#\"a\", \"b\", \"c\", \"d\", \"e\" indexlerinin 5.0 olduğu bir seri oluşturur.\n",
    "series = pd.Series(5.0, index=[\"a\", \"b\", \"c\", \"d\", \"e\"])"
   ]
  },
  {
   "cell_type": "code",
   "execution_count": null,
   "id": "ae9e14d8-c454-41d4-8000-2e67166d361a",
   "metadata": {},
   "outputs": [],
   "source": [
    "series"
   ]
  },
  {
   "cell_type": "code",
   "execution_count": null,
   "id": "e456ab6b-bdb2-4670-9739-56cf9f51dc98",
   "metadata": {},
   "outputs": [],
   "source": [
    "#Serimizin \"a\" indexinin değerini 6 yapıyoruz\n",
    "series[\"a\"] = 6.0"
   ]
  },
  {
   "cell_type": "code",
   "execution_count": null,
   "id": "5da4d958-fdbd-4c9f-88d9-16140ed320b4",
   "metadata": {},
   "outputs": [],
   "source": [
    "series"
   ]
  },
  {
   "cell_type": "code",
   "execution_count": null,
   "id": "7d26f297-560f-4447-bde2-d2c9a1ae9d2b",
   "metadata": {},
   "outputs": [],
   "source": [
    "list2 = [1, 2, 3, 4, 5, 6, 7, 8, 9, 10]\n",
    "index = ['a', 'b', 'c', 'd', 'e', 'f', 'g','h', 'i','j']\n",
    "series = pd.Series(list2,index)\n",
    "print(series)"
   ]
  },
  {
   "cell_type": "code",
   "execution_count": null,
   "id": "671cfa66-04e3-4453-b946-2ca9377734ac",
   "metadata": {},
   "outputs": [],
   "source": [
    "list2 = [1, 2, 3, 4, 5, 6, 7, 8, 9, 10]\n",
    "index = ['a', 'b', 'c', 'd', 'e', 'f', 'g','h','i','j']\n",
    "series = pd.Series(list2, index, dtype=float)\n",
    "print(series)"
   ]
  },
  {
   "cell_type": "code",
   "execution_count": null,
   "id": "b275a1a8-50b1-4ade-8843-875090dbbd41",
   "metadata": {},
   "outputs": [],
   "source": [
    "dict2 = {'a': 0, 'b':1, 'c':2, 'd':3, 'e':4, 'f':5, 'g':6,'h':7.4, 'i':-8,'j':90}\n",
    "series = pd.Series(dict2)\n",
    "print(series)"
   ]
  },
  {
   "cell_type": "code",
   "execution_count": null,
   "id": "30fb0288-673b-494c-a256-c21655070fcf",
   "metadata": {},
   "outputs": [],
   "source": [
    "#serilerimizin veri tipini .dtype ile öğrenebiliriz.\n",
    "series.dtype"
   ]
  },
  {
   "cell_type": "code",
   "execution_count": null,
   "id": "74afd79a-f017-4ce4-a33d-20b4446c9c98",
   "metadata": {},
   "outputs": [],
   "source": [
    "#serimizin boyutunu .shape ile öğrenebiliriz.\n",
    "series.shape"
   ]
  },
  {
   "cell_type": "code",
   "execution_count": null,
   "id": "458bd53d-e484-4b3a-a31a-922377572009",
   "metadata": {},
   "outputs": [],
   "source": [
    "#serimizin içindeki değerleri .sum() ile toplayabiliriz.\n",
    "series.sum()"
   ]
  },
  {
   "cell_type": "code",
   "execution_count": null,
   "id": "1de0d500-04c7-4788-b4b9-eeba25b72588",
   "metadata": {},
   "outputs": [],
   "source": [
    "#.max() bize serinin içindeki max değeri döndürür.\n",
    "series.max()"
   ]
  },
  {
   "cell_type": "code",
   "execution_count": null,
   "id": "3f4bad68-f50e-45e0-9147-c5a34c1224b5",
   "metadata": {},
   "outputs": [],
   "source": [
    "#.min() bize serinin içindeki min değeri döndürür.\n",
    "series.min()"
   ]
  },
  {
   "cell_type": "code",
   "execution_count": null,
   "id": "3eedbd32-14ec-40f9-88ee-3ef114f7b98c",
   "metadata": {},
   "outputs": [],
   "source": [
    "#.mean() bize serinin içindeki sayıların ortalamasını döndürür.\n",
    "series.mean()"
   ]
  },
  {
   "cell_type": "code",
   "execution_count": null,
   "id": "edb3a73f-37ed-47ac-977f-f14fcff161d7",
   "metadata": {},
   "outputs": [],
   "source": [
    "#serimizin medyan değerini döndürür.\n",
    "series.median()"
   ]
  },
  {
   "cell_type": "code",
   "execution_count": null,
   "id": "ae326347-4e87-4fd7-9711-7eef70573cf9",
   "metadata": {},
   "outputs": [],
   "source": [
    "#Serimizin mutlak değerlerini döndürür.\n",
    "series.abs()"
   ]
  },
  {
   "cell_type": "code",
   "execution_count": null,
   "id": "17983e34-0ce5-4dd8-8cd6-2f5b4c10b729",
   "metadata": {},
   "outputs": [],
   "source": [
    "series.round()"
   ]
  },
  {
   "cell_type": "code",
   "execution_count": null,
   "id": "9074f27a-1abf-4d7a-8ea7-d35837dc2d35",
   "metadata": {},
   "outputs": [],
   "source": [
    "series * series"
   ]
  },
  {
   "cell_type": "code",
   "execution_count": null,
   "id": "27e1c068-d9ca-4e5c-ac45-8bed9399eef3",
   "metadata": {},
   "outputs": [],
   "source": [
    "series + series"
   ]
  },
  {
   "cell_type": "code",
   "execution_count": null,
   "id": "b0b5413e-80c3-4455-b393-e4f080fdf4e2",
   "metadata": {},
   "outputs": [],
   "source": [
    "series<series.median()"
   ]
  },
  {
   "cell_type": "code",
   "execution_count": null,
   "id": "980e8081-ebad-452c-b2c5-86427a21370c",
   "metadata": {},
   "outputs": [],
   "source": [
    "#Medyandan küçük olan değerleri listeler\n",
    "print(series[series<series.median()])"
   ]
  },
  {
   "cell_type": "code",
   "execution_count": null,
   "id": "e62c22ed-25c3-4624-94d6-90e2935a4814",
   "metadata": {},
   "outputs": [],
   "source": [
    "#Medyandan büyük olan değerleri listeler\n",
    "print(series[series>series.median()])"
   ]
  },
  {
   "cell_type": "markdown",
   "id": "c93a4b7d-f6b7-4f05-9932-fdc1ac32cf7c",
   "metadata": {},
   "source": [
    "![](table_dataframe.svg)"
   ]
  },
  {
   "cell_type": "code",
   "execution_count": null,
   "id": "5b336023-69eb-410a-bfdd-452e4aaba015",
   "metadata": {},
   "outputs": [],
   "source": [
    "#dataframe = pd.DataFrame(data,index)\n",
    "pd.DataFrame([10, 20, 30, 40], [1, 2, 3, 4])"
   ]
  },
  {
   "cell_type": "code",
   "execution_count": null,
   "id": "63509008-75f4-40e3-90aa-3e9d055a1b50",
   "metadata": {},
   "outputs": [],
   "source": [
    "#Sözlük yapısı kullanarak DataFrame oluşturuyoruz\n",
    "#Boş değer veremeyeceğimiz için eksik bilgilere np.nan değeri atayabiliriz\n",
    "data = {\n",
    "    \"isim\": [\"Emir\", \"Hilal\", \"Mehmet\"],\n",
    "    \"teknoloji\": [\"Python\", \"R\", np.nan],\n",
    "}\n",
    "df = pd.DataFrame(data)\n",
    "df"
   ]
  },
  {
   "cell_type": "code",
   "execution_count": null,
   "id": "222dd03f-5352-4dcc-953f-76ec25b38000",
   "metadata": {},
   "outputs": [],
   "source": [
    "#random kullanarak oluşturduğumuz array'i, DataFrame'e çeviriyoruz.\n",
    "x = np.random.random((7, 4))\n",
    "df = pd.DataFrame(x)\n",
    "df"
   ]
  },
  {
   "cell_type": "code",
   "execution_count": null,
   "id": "5acff078-ce82-442a-b320-c32c005664fe",
   "metadata": {},
   "outputs": [],
   "source": [
    "df>0.5"
   ]
  },
  {
   "cell_type": "code",
   "execution_count": null,
   "id": "6dedc81e-144e-484a-a877-2432b649d718",
   "metadata": {},
   "outputs": [],
   "source": [
    "#DataFrame içindeki değerlerden 0.5'ten büyük olan değerleri listeliyoruz\n",
    "df[df>0.5]"
   ]
  },
  {
   "cell_type": "code",
   "execution_count": null,
   "id": "f6211421-c7ad-4a91-b055-a3a14c33ffdb",
   "metadata": {},
   "outputs": [],
   "source": [
    "dict3 = {\"Yaz\":[\"Haziran\",\"Temmuz\",\"Ağustos\"],\n",
    "         \"Sonbahar\":[\"Eylül\",\"Ekim\",\"Kasım\"],\n",
    "         \"Kış\":[\"Aralık\",\"Ocak\",\"Şubat\"],\n",
    "         \"İlkbahar\":[\"Mart\",\"Nisan\",\"Mayıs\"]\n",
    "        }\n",
    "df = pd.DataFrame(dict3)\n",
    "df"
   ]
  },
  {
   "cell_type": "code",
   "execution_count": null,
   "id": "c1b1bc9e-314d-4913-b8d9-90e9990ba4b8",
   "metadata": {},
   "outputs": [],
   "source": [
    "#\"Yaz\" sütununu ekrana yazdırıyoruz\n",
    "df[\"Yaz\"]"
   ]
  },
  {
   "cell_type": "code",
   "execution_count": null,
   "id": "f77feb38-468c-4ffb-bd17-4a2de3e3b33e",
   "metadata": {},
   "outputs": [],
   "source": [
    "data = {\n",
    "    \"isim\": [\"Emir\", \"Hilal\", \"Ayşe\", \"Başak\", \"Mehmet\",\"Merve\"],\n",
    "    \"teknoloji\": [\"Python\", \"R\", np.nan, \"JS\", \"Vue\",\"React\"],\n",
    "    \"şehir\": [\"Antalya\", \"Bursa\", \"İstanbul\", \"Bursa\", \"İzmir\", \"Aydın\"],\n",
    "    \"yaş\": [26,28,30,24,22,24],\n",
    "    \"cinsiyet\": [\"E\",\"K\",\"K\",\"K\",\"E\",\"K\"],\n",
    "    \"boy\": [186,170,175,170,190,160]\n",
    "}\n",
    "df = pd.DataFrame(data)\n",
    "df"
   ]
  },
  {
   "cell_type": "code",
   "execution_count": null,
   "id": "169b5691-ed42-4284-bb1c-9cb84de75355",
   "metadata": {},
   "outputs": [],
   "source": [
    "#İlk 5 değeri döndürür\n",
    "df.head()"
   ]
  },
  {
   "cell_type": "code",
   "execution_count": null,
   "id": "6734d136-30c9-4b00-816f-abb544eea2cf",
   "metadata": {},
   "outputs": [],
   "source": [
    "#İlk 2 değeri döndürür\n",
    "df.head(2)"
   ]
  },
  {
   "cell_type": "code",
   "execution_count": null,
   "id": "8951b4c7-a573-4d72-b8ac-d073a64db6f9",
   "metadata": {},
   "outputs": [],
   "source": [
    "#Son 3 değeri döndürür\n",
    "df.tail(3)"
   ]
  },
  {
   "cell_type": "code",
   "execution_count": null,
   "id": "db5258ce-b172-46f4-9838-ac2ac291973b",
   "metadata": {},
   "outputs": [],
   "source": [
    "#Son 5 değeri döndürür\n",
    "df.tail()"
   ]
  },
  {
   "cell_type": "code",
   "execution_count": null,
   "id": "8e2ae4ce-68e0-4a62-9c1f-e1dc2dc8ad7e",
   "metadata": {},
   "outputs": [],
   "source": [
    "data"
   ]
  },
  {
   "cell_type": "code",
   "execution_count": null,
   "id": "63b1b54d-938b-466d-ad57-3d26af962dd8",
   "metadata": {},
   "outputs": [],
   "source": [
    "#DataFrame oluştururken columnların yerlerini değiştirebiliriz.\n",
    "df = pd.DataFrame(data, columns=[\"isim\",\"cinsiyet\",\"yaş\",\"boy\",\"teknoloji\"])"
   ]
  },
  {
   "cell_type": "code",
   "execution_count": null,
   "id": "63a299fd-9221-411f-8e72-fa4514ddb3e5",
   "metadata": {},
   "outputs": [],
   "source": [
    "df"
   ]
  },
  {
   "cell_type": "code",
   "execution_count": null,
   "id": "82f5808c-5e42-427f-b6e1-3ace14c5acc7",
   "metadata": {},
   "outputs": [],
   "source": [
    "df = pd.DataFrame(data, columns=[\"isim\",\"cinsiyet\",\"yaş\",\"boy\",\"teknoloji\"], index=[1,2,3,4,5,6])"
   ]
  },
  {
   "cell_type": "code",
   "execution_count": null,
   "id": "f93af6fe-c81c-48c3-ae86-25bdc578004a",
   "metadata": {},
   "outputs": [],
   "source": [
    "df"
   ]
  },
  {
   "cell_type": "code",
   "execution_count": null,
   "id": "be446159-edf1-4e52-a210-40c84ef65aa3",
   "metadata": {},
   "outputs": [],
   "source": [
    "df[\"isim\"]"
   ]
  },
  {
   "cell_type": "code",
   "execution_count": null,
   "id": "e93f7ec5-1b50-4234-9cb2-c413dfa1f266",
   "metadata": {},
   "outputs": [],
   "source": [
    "#Alternatif kullanım\n",
    "df.isim"
   ]
  },
  {
   "cell_type": "code",
   "execution_count": null,
   "id": "3bfd761b-f4b1-4f95-9ab2-1c69ba57150f",
   "metadata": {},
   "outputs": [],
   "source": [
    "#İsim ve Boy sütunlarını yazdırıyoruz\n",
    "df[[\"isim\",\"boy\"]]"
   ]
  },
  {
   "cell_type": "code",
   "execution_count": null,
   "id": "68453f96-abec-4203-b5fd-8f4339d123a2",
   "metadata": {},
   "outputs": [],
   "source": [
    "#Loc ile bizim belirlemiş olduğumuz indexe göre verileri çağırabiliriz\n",
    "df.loc[[1]]"
   ]
  },
  {
   "cell_type": "code",
   "execution_count": null,
   "id": "dfc8878d-ab16-4e15-a026-9b698a34b90d",
   "metadata": {},
   "outputs": [],
   "source": [
    "df.loc[[1,4,6]]"
   ]
  },
  {
   "cell_type": "code",
   "execution_count": null,
   "id": "f575d369-9962-4db8-ba63-d93f1e6e2b52",
   "metadata": {},
   "outputs": [],
   "source": [
    "df"
   ]
  },
  {
   "cell_type": "code",
   "execution_count": null,
   "id": "b1c800f2-b690-4c31-af3c-97be8196a998",
   "metadata": {},
   "outputs": [],
   "source": [
    "#Değerleri güncellemek için kullanabiliriz\n",
    "df[\"boy\"] = [186,170,165,170,180,155]"
   ]
  },
  {
   "cell_type": "code",
   "execution_count": null,
   "id": "5f552892-b7fc-4b5c-b4fa-029f5510f2be",
   "metadata": {},
   "outputs": [],
   "source": [
    "df"
   ]
  },
  {
   "cell_type": "code",
   "execution_count": null,
   "id": "417a896b-982d-428e-be57-52f8a5c713fa",
   "metadata": {},
   "outputs": [],
   "source": [
    "#Yeni sütun eklemek için kullanabiliriz\n",
    "df[\"170+\"] = df['boy'] > 170"
   ]
  },
  {
   "cell_type": "code",
   "execution_count": null,
   "id": "cb244a5f-5e8c-4f4d-bef6-61d12ce5466b",
   "metadata": {},
   "outputs": [],
   "source": [
    "df"
   ]
  },
  {
   "cell_type": "code",
   "execution_count": null,
   "id": "892c6072-525c-40b3-b4e9-bb15ed65e12f",
   "metadata": {},
   "outputs": [],
   "source": [
    "#Sütunları silmek için del kullanabiliriz\n",
    "del df[\"170+\"]"
   ]
  },
  {
   "cell_type": "code",
   "execution_count": null,
   "id": "a65ae843-bccc-44fe-b9ca-70fe369ad468",
   "metadata": {},
   "outputs": [],
   "source": [
    "df"
   ]
  },
  {
   "cell_type": "code",
   "execution_count": null,
   "id": "0abbfcc8-efb6-49ab-9f07-b4dbf548a0c6",
   "metadata": {},
   "outputs": [],
   "source": [
    "#İndexlere ve/veya columnlara isim verebiliriz\n",
    "df.index.name=\"index no\"\n",
    "df.columns.name=\"Bilgi\"\n",
    "df"
   ]
  },
  {
   "cell_type": "code",
   "execution_count": null,
   "id": "6e567f34-6ba0-4f7f-91cd-6b2389c0da41",
   "metadata": {},
   "outputs": [],
   "source": [
    "#DataFrame'imizin transpozunu alırız\n",
    "df.T"
   ]
  },
  {
   "cell_type": "code",
   "execution_count": null,
   "id": "240a6f28-ed87-4c80-94b9-4fa36fc5ebc1",
   "metadata": {},
   "outputs": [],
   "source": [
    "#DataFrame'imizin değerlerini yazdırır\n",
    "df.values"
   ]
  },
  {
   "cell_type": "code",
   "execution_count": null,
   "id": "ae4c928c-e7bd-4849-97ed-4128352b7e5a",
   "metadata": {},
   "outputs": [],
   "source": [
    "df"
   ]
  },
  {
   "cell_type": "code",
   "execution_count": null,
   "id": "3d6f1ce8-e430-4168-982d-d64c13588999",
   "metadata": {},
   "outputs": [],
   "source": [
    "#Sıfırıncı indexe karşılık gelen verileri döndürür\n",
    "df.values[2]"
   ]
  },
  {
   "cell_type": "code",
   "execution_count": null,
   "id": "d675836f-c83c-4849-a6a0-2cc88e5797fa",
   "metadata": {},
   "outputs": [],
   "source": [
    "#https://data.ibb.gov.tr/dataset/hourly-traffic-density-data-set/resource/00d72836-d035-462d-a66e-408883216195\n",
    "ibb_veri = pd.read_csv(\"Mayıs 2021 Trafik Yoğunluk Verisi.csv\")"
   ]
  },
  {
   "cell_type": "code",
   "execution_count": null,
   "id": "5bca980e-056e-479c-8292-943a82c212e2",
   "metadata": {},
   "outputs": [],
   "source": [
    "type(ibb_veri)"
   ]
  },
  {
   "cell_type": "code",
   "execution_count": null,
   "id": "b6fa7ca5-a00d-4946-89e7-fb30cd132e92",
   "metadata": {},
   "outputs": [],
   "source": [
    "ibb_veri.head()"
   ]
  },
  {
   "cell_type": "code",
   "execution_count": null,
   "id": "66908fbd-1add-417f-9b23-1734849f68af",
   "metadata": {},
   "outputs": [],
   "source": [
    "ibb_veri.dtypes"
   ]
  },
  {
   "cell_type": "code",
   "execution_count": null,
   "id": "1f2d9209-cc8a-4a71-a7b3-0aaf7184f548",
   "metadata": {},
   "outputs": [],
   "source": [
    "#count -> Kaç kez tekrar ettiği\n",
    "#mean -> Ortalaması\n",
    "#std -> Standart Sapması\n",
    "\n",
    "ibb_veri.AVERAGE_SPEED.describe()"
   ]
  },
  {
   "cell_type": "code",
   "execution_count": null,
   "id": "2898898a-0595-41cd-9e54-b3c57530777e",
   "metadata": {},
   "outputs": [],
   "source": [
    "#Değerlerin ortalamasını döndürür\n",
    "ibb_veri.AVERAGE_SPEED.mean()"
   ]
  },
  {
   "cell_type": "code",
   "execution_count": null,
   "id": "1c58402c-1a27-44ad-bddc-4fc28e3e660f",
   "metadata": {},
   "outputs": [],
   "source": [
    "#Değerlerin kaç kez tekrar ettiğini döndürür\n",
    "ibb_veri.AVERAGE_SPEED.value_counts()"
   ]
  },
  {
   "cell_type": "code",
   "execution_count": null,
   "id": "dd14b1e9-8dce-4464-b494-733a266c06ac",
   "metadata": {},
   "outputs": [],
   "source": [
    "#Değerlerin 1'de kaç oranında yer kapladığını gösterir\n",
    "ibb_veri.AVERAGE_SPEED.value_counts(normalize=True)"
   ]
  },
  {
   "cell_type": "code",
   "execution_count": null,
   "id": "ff242e84-3c37-42c5-9467-454ce016db33",
   "metadata": {},
   "outputs": [],
   "source": [
    "#Yüzdelik olarak kapladığı alan\n",
    "(100 * ibb_veri.AVERAGE_SPEED.value_counts(normalize=True))"
   ]
  },
  {
   "cell_type": "code",
   "execution_count": null,
   "id": "aa9c26f9-9c90-4fa0-b14d-76d6013f1e1a",
   "metadata": {},
   "outputs": [],
   "source": [
    "#DataFrame içindeki benzersiz verileri listeler\n",
    "ibb_veri.AVERAGE_SPEED.unique()"
   ]
  },
  {
   "cell_type": "code",
   "execution_count": null,
   "id": "35d29b90-9d56-4f05-9274-6e79bc0cb946",
   "metadata": {},
   "outputs": [],
   "source": [
    "#DataFrame içindeki benzersiz verilerin sayısını döndürür\n",
    "ibb_veri.AVERAGE_SPEED.nunique()"
   ]
  },
  {
   "cell_type": "code",
   "execution_count": null,
   "id": "d76b8f1b-b764-41e1-9534-152be09cb6db",
   "metadata": {},
   "outputs": [],
   "source": [
    "#croostab ile iki ayrı sütunu karşılaştırabiliriz\n",
    "pd.crosstab(ibb_veri.AVERAGE_SPEED,ibb_veri.DATE_TIME).tail(10)"
   ]
  },
  {
   "cell_type": "code",
   "execution_count": null,
   "id": "29494bb9-cd6d-48ad-a140-fc68ecbc1c5b",
   "metadata": {},
   "outputs": [],
   "source": [
    "#https://www.kaggle.com/datasets/fedesoriano/usd-rub-historical-data\n",
    "usd_ruble = pd.read_csv(\"USD_RUB.csv\")"
   ]
  },
  {
   "cell_type": "code",
   "execution_count": null,
   "id": "f977e8b5-590d-4033-b844-949fcdba49a7",
   "metadata": {},
   "outputs": [],
   "source": [
    "usd_ruble.head()"
   ]
  },
  {
   "cell_type": "code",
   "execution_count": null,
   "id": "a951770c-a26b-45b6-a23b-0b8757c3593d",
   "metadata": {},
   "outputs": [],
   "source": [
    "usd_ruble.tail()"
   ]
  },
  {
   "cell_type": "code",
   "execution_count": null,
   "id": "8c238962-caf5-460e-bccc-ebe4f4ec98f5",
   "metadata": {},
   "outputs": [],
   "source": [
    "usd_ruble.info()"
   ]
  },
  {
   "cell_type": "code",
   "execution_count": null,
   "id": "7f80afb0-f328-4ad9-97ea-c68fe5c726f1",
   "metadata": {},
   "outputs": [],
   "source": [
    "#20. indexten 40.indexe kadar döndürür\n",
    "usd_ruble[20:40]"
   ]
  },
  {
   "cell_type": "code",
   "execution_count": null,
   "id": "cb7ac841-79fc-4be1-8e8b-cd573f4ab41b",
   "metadata": {},
   "outputs": [],
   "source": [
    "#High sütunu 100den büyük olan satırları True döndürür\n",
    "usd_ruble[\"High\"] >= 100"
   ]
  },
  {
   "cell_type": "code",
   "execution_count": null,
   "id": "53316a17-68ab-4ec9-87be-e70f200c9037",
   "metadata": {},
   "outputs": [],
   "source": [
    "#High sütunu 100den büyük olan satırları x'e eşitler\n",
    "x = usd_ruble[\"High\"] >= 100"
   ]
  },
  {
   "cell_type": "code",
   "execution_count": null,
   "id": "6ae2ffcf-002c-454d-83bd-77462554d40c",
   "metadata": {},
   "outputs": [],
   "source": [
    "#High sütunu 100den büyük olan satırları yazdırır\n",
    "usd_ruble[x]"
   ]
  },
  {
   "cell_type": "code",
   "execution_count": null,
   "id": "e2fada85-7cf9-41e6-840f-a126ead2af4f",
   "metadata": {},
   "outputs": [],
   "source": [
    "usd_ruble"
   ]
  },
  {
   "cell_type": "code",
   "execution_count": null,
   "id": "626d5d1d-9940-464f-8126-a1741877a5da",
   "metadata": {},
   "outputs": [],
   "source": [
    "usd_ruble[\"High\"].describe()"
   ]
  },
  {
   "cell_type": "code",
   "execution_count": null,
   "id": "950c9fe4-f66c-4441-802c-3f86acfb4d54",
   "metadata": {},
   "outputs": [],
   "source": [
    "usd_ruble.High.describe()"
   ]
  },
  {
   "cell_type": "code",
   "execution_count": null,
   "id": "b56dac17-f610-4f3e-be62-36a1c5320449",
   "metadata": {},
   "outputs": [],
   "source": [
    "usd_ruble"
   ]
  },
  {
   "cell_type": "code",
   "execution_count": null,
   "id": "1cb399b1-df3c-479a-8cd6-29920387102b",
   "metadata": {},
   "outputs": [],
   "source": [
    "# Change isimli yeni bir sütun ekliyoruz, price-open değeri change değerimizi oluşturuyor.\n",
    "usd_ruble[\"Change\"] = usd_ruble[\"Price\"] - usd_ruble[\"Open\"] "
   ]
  },
  {
   "cell_type": "code",
   "execution_count": null,
   "id": "4e6f9205-f3c4-4b5f-9a6f-3d9b594e6baf",
   "metadata": {},
   "outputs": [],
   "source": [
    "usd_ruble"
   ]
  },
  {
   "cell_type": "code",
   "execution_count": null,
   "id": "a33113f8-fa8e-49fa-a93d-e9d891f69e55",
   "metadata": {},
   "outputs": [],
   "source": [
    "x = usd_ruble[\"Change\"] > 5 "
   ]
  },
  {
   "cell_type": "code",
   "execution_count": null,
   "id": "0e7f7fb8-07d1-4eb8-89b2-a11f94e78de2",
   "metadata": {},
   "outputs": [],
   "source": [
    "usd_ruble[x]"
   ]
  },
  {
   "cell_type": "code",
   "execution_count": null,
   "id": "463fb362-f337-4d8c-bc28-3e89648306c6",
   "metadata": {},
   "outputs": [],
   "source": [
    "x = usd_ruble[\"Change\"] < 0"
   ]
  },
  {
   "cell_type": "code",
   "execution_count": null,
   "id": "ca1caf20-9fd6-4aa6-a818-bb922c0752eb",
   "metadata": {},
   "outputs": [],
   "source": [
    "usd_ruble[x]"
   ]
  },
  {
   "cell_type": "code",
   "execution_count": null,
   "id": "ffe92fe9-c0d0-41e6-abbc-e7049eaafd91",
   "metadata": {},
   "outputs": [],
   "source": [
    "#Date sütununda içinde Sep geçen ifadeleri True döndürür\n",
    "usd_ruble[\"Date\"].str.contains(\"Sep\")"
   ]
  },
  {
   "cell_type": "code",
   "execution_count": null,
   "id": "27d0159f-44f5-462b-a3ca-7b03d2f07a01",
   "metadata": {},
   "outputs": [],
   "source": [
    "#Date sütununda içinde Sep geçen ifadeleri usd_ruble_sep değişkenine tanımlar\n",
    "usd_ruble_sep = usd_ruble[\"Date\"].str.contains(\"Sep\")"
   ]
  },
  {
   "cell_type": "code",
   "execution_count": null,
   "id": "2d08293f-6a5b-4511-afdc-74705e588e6c",
   "metadata": {},
   "outputs": [],
   "source": [
    "#Date sütununda içinde Sep geçen ifadeleri döndürür\n",
    "usd_ruble[usd_ruble_sep]"
   ]
  },
  {
   "cell_type": "code",
   "execution_count": null,
   "id": "7cd66c47-a683-4109-bd36-d1898af0c08c",
   "metadata": {},
   "outputs": [],
   "source": [
    "# kullanıcının date değeri gireceği bir fonksiyon oluşturuyoruz.\n",
    "def date(date):\n",
    "    usd_ruble_date = usd_ruble[\"Date\"].str.contains(f\"{date}\") #yukarıda olduğu gibi ifademizi farklı bir değişkene atıyoruz\n",
    "    return usd_ruble[usd_ruble_date] #Kullanıcının girmiş olduğu değerin bulunduğu sütunları döndürüyoruz"
   ]
  },
  {
   "cell_type": "code",
   "execution_count": null,
   "id": "3bed6def-dc0b-4d12-a554-afe747ab8a39",
   "metadata": {},
   "outputs": [],
   "source": [
    "date(\"2022\")"
   ]
  },
  {
   "cell_type": "code",
   "execution_count": null,
   "id": "cc722b3c-f4b6-4e6b-950f-a9135b53b907",
   "metadata": {},
   "outputs": [],
   "source": [
    "date(\"Sep\")"
   ]
  },
  {
   "cell_type": "code",
   "execution_count": null,
   "id": "7302fb43-58be-48cf-8f1c-6b34a81f3ba6",
   "metadata": {},
   "outputs": [],
   "source": [
    "september = date(\"Sep\")"
   ]
  },
  {
   "cell_type": "code",
   "execution_count": null,
   "id": "5a5842bf-64de-4615-ab2b-d6853a447ea2",
   "metadata": {},
   "outputs": [],
   "source": [
    "september"
   ]
  },
  {
   "cell_type": "code",
   "execution_count": null,
   "id": "85b22d93-ecab-4c9e-b3c6-2c82d1901421",
   "metadata": {},
   "outputs": [],
   "source": [
    "#september değişkenini September.xlsx formatıyla excel dosyası olarak kaydediyoruz.\n",
    "september.to_excel(\"September.xlsx\")"
   ]
  },
  {
   "cell_type": "code",
   "execution_count": null,
   "id": "db5ad2f4-1dad-41f3-a0d5-61ba83c44e23",
   "metadata": {},
   "outputs": [],
   "source": [
    "#set_index ile indeximizi değiştirebiliriz\n",
    "usd_ruble.set_index(\"Date\")"
   ]
  },
  {
   "cell_type": "code",
   "execution_count": null,
   "id": "fb274ccb-eda9-4781-acfa-8e2e4534c6e7",
   "metadata": {},
   "outputs": [],
   "source": [
    "usd_ruble = usd_ruble.set_index(\"Date\")"
   ]
  },
  {
   "cell_type": "code",
   "execution_count": null,
   "id": "53a4c2ca-b6d0-421f-aa53-ca242dcd0d53",
   "metadata": {},
   "outputs": [],
   "source": [
    "usd_ruble"
   ]
  },
  {
   "cell_type": "code",
   "execution_count": null,
   "id": "8495a3b8-d8d2-460d-9afd-e1c5f641dba8",
   "metadata": {},
   "outputs": [],
   "source": [
    "#loc ile index ismine göre arama yapabiliriz\n",
    "usd_ruble.loc[\"Sep 24 2001\"]"
   ]
  },
  {
   "cell_type": "code",
   "execution_count": null,
   "id": "82129195-2118-4dab-a1c3-5c9776decd1d",
   "metadata": {},
   "outputs": [],
   "source": [
    "#iloc ile index sırasına göre arama yapabiliriz\n",
    "usd_ruble.iloc[0]"
   ]
  },
  {
   "cell_type": "code",
   "execution_count": null,
   "id": "ebad790d-e249-47d2-953e-e47c7d5c61fa",
   "metadata": {},
   "outputs": [],
   "source": [
    "#Birden fazla index değeri girebiliriz\n",
    "usd_ruble.loc[[\"Sep 24 2001\",\"Sep 25 2001\",\"Sep 26 2001\"]]"
   ]
  },
  {
   "cell_type": "code",
   "execution_count": null,
   "id": "42665b47-b364-4131-8c4a-48d9b4c57cec",
   "metadata": {},
   "outputs": [],
   "source": [
    "#İndexlerimizin Price değerini döndürür\n",
    "usd_ruble.loc[[\"Sep 24 2001\",\"Sep 25 2001\",\"Sep 26 2001\"],[\"Price\"]]"
   ]
  },
  {
   "cell_type": "code",
   "execution_count": null,
   "id": "6478b46b-11e6-473b-ad19-7e715cb1d3f3",
   "metadata": {},
   "outputs": [],
   "source": [
    "#Birden fazla sütun değeri girebiliriz\n",
    "usd_ruble.loc[[\"Sep 24 2001\",\"Sep 25 2001\",\"Sep 26 2001\"],[\"Price\",\"Change\"]]"
   ]
  },
  {
   "cell_type": "code",
   "execution_count": null,
   "id": "ba8f91f7-6c31-4766-a479-913ebdd0d804",
   "metadata": {},
   "outputs": [],
   "source": [
    "#orijinal index numarasına göre işlem yapmamızı sağlar // 0,1,2,3,4,5 etc.\n",
    "usd_ruble.iloc[[0,1,2]]"
   ]
  },
  {
   "cell_type": "code",
   "execution_count": null,
   "id": "4fb7a09a-9875-4e58-a7ce-a958fac3f448",
   "metadata": {},
   "outputs": [],
   "source": [
    "usd_ruble.iloc[0:10]"
   ]
  },
  {
   "cell_type": "code",
   "execution_count": null,
   "id": "79de873d-9c88-4ea4-a28a-824b05ccc459",
   "metadata": {},
   "outputs": [],
   "source": [
    "usd_ruble.iloc[0:10:2]"
   ]
  },
  {
   "cell_type": "code",
   "execution_count": null,
   "id": "96cfc6d9-ae85-410c-b94e-4476375f5b84",
   "metadata": {},
   "outputs": [],
   "source": []
  }
 ],
 "metadata": {
  "kernelspec": {
   "display_name": "Python 3 (ipykernel)",
   "language": "python",
   "name": "python3"
  },
  "language_info": {
   "codemirror_mode": {
    "name": "ipython",
    "version": 3
   },
   "file_extension": ".py",
   "mimetype": "text/x-python",
   "name": "python",
   "nbconvert_exporter": "python",
   "pygments_lexer": "ipython3",
   "version": "3.9.7"
  }
 },
 "nbformat": 4,
 "nbformat_minor": 5
}
